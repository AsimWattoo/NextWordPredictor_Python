{
 "cells": [
  {
   "cell_type": "code",
   "execution_count": 40,
   "metadata": {},
   "outputs": [],
   "source": [
    "import numpy as np\n",
    "from tqdm import tqdm\n",
    "import tensorflow as tf\n",
    "from tensorflow.keras.preprocessing.text import Tokenizer\n",
    "from tensorflow.keras.utils import pad_sequences, to_categorical\n",
    "from tensorflow.keras.layers import Dense, InputLayer, GRU, LSTM, Embedding, Bidirectional, Flatten, Dropout\n",
    "from tensorflow.keras.models import Model, Sequential\n",
    "from sklearn.model_selection import train_test_split\n",
    "from tensorflow.keras.callbacks import ModelCheckpoint\n",
    "import csv\n",
    "import os\n",
    "import matplotlib.pyplot as plt"
   ]
  },
  {
   "cell_type": "code",
   "execution_count": 41,
   "metadata": {},
   "outputs": [],
   "source": [
    "os.environ['CUDA_VISIBLE_DEVICES'] = '0'"
   ]
  },
  {
   "cell_type": "markdown",
   "metadata": {},
   "source": [
    "# Loading Data"
   ]
  },
  {
   "cell_type": "code",
   "execution_count": 42,
   "metadata": {},
   "outputs": [
    {
     "name": "stdout",
     "output_type": "stream",
     "text": [
      "9566\n"
     ]
    }
   ],
   "source": [
    "sentences = []\n",
    "with open('dataset.txt', 'r') as file:\n",
    "    text = file.read()\n",
    "    text = text.strip()\n",
    "    lines = text.split('\\n')\n",
    "    for line in lines:\n",
    "        if len(line) > 0:\n",
    "            sentences.append(line)\n",
    "print(len(sentences)) "
   ]
  },
  {
   "cell_type": "markdown",
   "metadata": {},
   "source": [
    "# Tokenizing the data"
   ]
  },
  {
   "cell_type": "code",
   "execution_count": 43,
   "metadata": {},
   "outputs": [
    {
     "data": {
      "text/plain": [
       "8200"
      ]
     },
     "execution_count": 43,
     "metadata": {},
     "output_type": "execute_result"
    }
   ],
   "source": [
    "sentences_to_consider = len(sentences)\n",
    "tokenizer = Tokenizer(oov_token='OOV')\n",
    "tokenizer.fit_on_texts(sentences[:sentences_to_consider])\n",
    "word_index = tokenizer.word_index\n",
    "len(word_index)"
   ]
  },
  {
   "cell_type": "code",
   "execution_count": 44,
   "metadata": {},
   "outputs": [
    {
     "name": "stdout",
     "output_type": "stream",
     "text": [
      "33\n",
      "33\n"
     ]
    }
   ],
   "source": [
    "# Filtering the text to create n-ragged sequences\n",
    "print(len(sentences[0]))\n",
    "\n",
    "def remove_extra_characters(text):\n",
    "    filtered_text = []\n",
    "    for item in text:\n",
    "        new_text = item.replace('_', ' ')\n",
    "        new_text = new_text.replace('.', '')\n",
    "        new_text = new_text.replace(',', '')\n",
    "        new_text = new_text.replace('!', '')\n",
    "        new_text = new_text.replace('$', '')\n",
    "        new_text = new_text.replace('-', '')\n",
    "        new_text = new_text.replace('(', '')\n",
    "        new_text = new_text.replace(')', '')\n",
    "        new_text = new_text.replace('  ', ' ')\n",
    "        new_text = new_text.replace('“', '')\n",
    "        new_text = new_text.replace('”', '')\n",
    "        filtered_text.append(new_text)\n",
    "    return filtered_text\n",
    "\n",
    "filtered_sentences = remove_extra_characters(sentences)\n",
    "\n",
    "print(len(filtered_sentences[0]))"
   ]
  },
  {
   "cell_type": "code",
   "execution_count": 45,
   "metadata": {},
   "outputs": [
    {
     "data": {
      "text/plain": [
       "95053"
      ]
     },
     "execution_count": 45,
     "metadata": {},
     "output_type": "execute_result"
    }
   ],
   "source": [
    "# Tokenizing the sequence\n",
    "sequences = tokenizer.texts_to_sequences(filtered_sentences)\n",
    "n_ragged_sequences = []\n",
    "sentences_count = 0\n",
    "# Creating n-ragged sequences\n",
    "for sequence in sequences:\n",
    "    for i in range(len(sequence) - 1):\n",
    "        new_sequence = sequence[0:i+2]\n",
    "        n_ragged_sequences.append(new_sequence)\n",
    "    sentences_count += 1\n",
    "    if sentences_count >= sentences_to_consider:\n",
    "        break\n",
    "len(n_ragged_sequences)"
   ]
  },
  {
   "cell_type": "code",
   "execution_count": 46,
   "metadata": {},
   "outputs": [
    {
     "data": {
      "text/plain": [
       "18"
      ]
     },
     "execution_count": 46,
     "metadata": {},
     "output_type": "execute_result"
    }
   ],
   "source": [
    "# Finding the max length\n",
    "lengths = [len(seq) for seq in n_ragged_sequences]\n",
    "max_n_ragged_len = max(lengths)\n",
    "# Padding the sequences\n",
    "padded_sequences = pad_sequences(n_ragged_sequences, padding='pre', maxlen=max_n_ragged_len)\n",
    "padded_sequences = np.array(padded_sequences)\n",
    "max_length = len(padded_sequences[0])\n",
    "max_length"
   ]
  },
  {
   "cell_type": "markdown",
   "metadata": {},
   "source": [
    "# Preparing the Dataset"
   ]
  },
  {
   "cell_type": "code",
   "execution_count": 47,
   "metadata": {},
   "outputs": [
    {
     "data": {
      "text/plain": [
       "((95053, 17), (95053, 8201))"
      ]
     },
     "execution_count": 47,
     "metadata": {},
     "output_type": "execute_result"
    }
   ],
   "source": [
    "X = padded_sequences[:, :-1]\n",
    "y = padded_sequences[:, -1]\n",
    "y = to_categorical(y)\n",
    "X.shape, y.shape"
   ]
  },
  {
   "cell_type": "code",
   "execution_count": 48,
   "metadata": {},
   "outputs": [],
   "source": [
    "# Splitting the dataset in training and testing set\n",
    "X_train, X_test, y_train, y_test = train_test_split(X, y, train_size=0.9)"
   ]
  },
  {
   "cell_type": "code",
   "execution_count": 49,
   "metadata": {},
   "outputs": [
    {
     "data": {
      "text/plain": [
       "((85547, 85547), (9506, 9506))"
      ]
     },
     "execution_count": 49,
     "metadata": {},
     "output_type": "execute_result"
    }
   ],
   "source": [
    "# Training and Testing Sizes\n",
    "(len(X_train), len(y_train)), (len(X_test), len(y_test))"
   ]
  },
  {
   "cell_type": "markdown",
   "metadata": {},
   "source": [
    "# Defining the Model"
   ]
  },
  {
   "cell_type": "code",
   "execution_count": 50,
   "metadata": {},
   "outputs": [
    {
     "data": {
      "text/plain": [
       "8201"
      ]
     },
     "execution_count": 50,
     "metadata": {},
     "output_type": "execute_result"
    }
   ],
   "source": [
    "num_labels = len(tokenizer.word_index) + 1\n",
    "epochs = 100\n",
    "batch_size = 1024\n",
    "num_labels"
   ]
  },
  {
   "cell_type": "code",
   "execution_count": 57,
   "metadata": {},
   "outputs": [
    {
     "name": "stdout",
     "output_type": "stream",
     "text": [
      "Model: \"sequential_5\"\n",
      "_________________________________________________________________\n",
      " Layer (type)                Output Shape              Param #   \n",
      "=================================================================\n",
      " embedding_5 (Embedding)     (None, 17, 100)           820100    \n",
      "                                                                 \n",
      " bidirectional_3 (Bidirectio  (None, 17, 300)          301200    \n",
      " nal)                                                            \n",
      "                                                                 \n",
      " bidirectional_4 (Bidirectio  (None, 300)              541200    \n",
      " nal)                                                            \n",
      "                                                                 \n",
      " dropout_4 (Dropout)         (None, 300)               0         \n",
      "                                                                 \n",
      " dense_6 (Dense)             (None, 1024)              308224    \n",
      "                                                                 \n",
      " dropout_5 (Dropout)         (None, 1024)              0         \n",
      "                                                                 \n",
      " dense_7 (Dense)             (None, 8201)              8406025   \n",
      "                                                                 \n",
      "=================================================================\n",
      "Total params: 10,376,749\n",
      "Trainable params: 10,376,749\n",
      "Non-trainable params: 0\n",
      "_________________________________________________________________\n"
     ]
    }
   ],
   "source": [
    "model = Sequential([\n",
    "    Embedding(num_labels, 100, input_length=max_length - 1),\n",
    "    Bidirectional(LSTM(150, return_sequences= True)),\n",
    "    Bidirectional(LSTM(150)),\n",
    "    Dropout(0.2),\n",
    "    Dense(units= 1024, activation= 'relu'),\n",
    "    Dropout(0.2),\n",
    "    Dense(units= num_labels, activation= 'softmax')\n",
    "])\n",
    "\n",
    "model.compile(loss='categorical_crossentropy', optimizer='adam', metrics=['accuracy'])\n",
    "model.summary()"
   ]
  },
  {
   "cell_type": "code",
   "execution_count": 58,
   "metadata": {},
   "outputs": [
    {
     "name": "stdout",
     "output_type": "stream",
     "text": [
      "Epoch 1/100\n",
      "1337/1337 [==============================] - ETA: 0s - loss: 6.2537 - accuracy: 0.0663\n",
      "Epoch 1: val_loss improved from inf to 5.96107, saving model to predictor.h5\n",
      "1337/1337 [==============================] - 233s 168ms/step - loss: 6.2537 - accuracy: 0.0663 - val_loss: 5.9611 - val_accuracy: 0.0876\n",
      "Epoch 2/100\n",
      "1337/1337 [==============================] - ETA: 0s - loss: 5.7323 - accuracy: 0.0983\n",
      "Epoch 2: val_loss improved from 5.96107 to 5.77708, saving model to predictor.h5\n",
      "1337/1337 [==============================] - 223s 166ms/step - loss: 5.7323 - accuracy: 0.0983 - val_loss: 5.7771 - val_accuracy: 0.1117\n",
      "Epoch 3/100\n",
      "1337/1337 [==============================] - ETA: 0s - loss: 5.4539 - accuracy: 0.1189\n",
      "Epoch 3: val_loss improved from 5.77708 to 5.73100, saving model to predictor.h5\n",
      "1337/1337 [==============================] - 232s 173ms/step - loss: 5.4539 - accuracy: 0.1189 - val_loss: 5.7310 - val_accuracy: 0.1250\n",
      "Epoch 4/100\n",
      "1337/1337 [==============================] - ETA: 0s - loss: 5.2570 - accuracy: 0.1314\n",
      "Epoch 4: val_loss improved from 5.73100 to 5.71780, saving model to predictor.h5\n",
      "1337/1337 [==============================] - 245s 183ms/step - loss: 5.2570 - accuracy: 0.1314 - val_loss: 5.7178 - val_accuracy: 0.1282\n",
      "Epoch 5/100\n",
      "1337/1337 [==============================] - ETA: 0s - loss: 5.1016 - accuracy: 0.1404\n",
      "Epoch 5: val_loss did not improve from 5.71780\n",
      "1337/1337 [==============================] - 243s 182ms/step - loss: 5.1016 - accuracy: 0.1404 - val_loss: 5.7490 - val_accuracy: 0.1320\n",
      "Epoch 6/100\n",
      "1337/1337 [==============================] - ETA: 0s - loss: 4.9626 - accuracy: 0.1481\n",
      "Epoch 6: val_loss did not improve from 5.71780\n",
      "1337/1337 [==============================] - 244s 182ms/step - loss: 4.9626 - accuracy: 0.1481 - val_loss: 5.8343 - val_accuracy: 0.1372\n",
      "Epoch 7/100\n",
      "1337/1337 [==============================] - ETA: 0s - loss: 4.8361 - accuracy: 0.1540\n",
      "Epoch 7: val_loss did not improve from 5.71780\n",
      "1337/1337 [==============================] - 245s 183ms/step - loss: 4.8361 - accuracy: 0.1540 - val_loss: 5.8758 - val_accuracy: 0.1379\n",
      "Epoch 8/100\n",
      "1337/1337 [==============================] - ETA: 0s - loss: 4.7177 - accuracy: 0.1620\n",
      "Epoch 8: val_loss did not improve from 5.71780\n",
      "1337/1337 [==============================] - 247s 185ms/step - loss: 4.7177 - accuracy: 0.1620 - val_loss: 6.0318 - val_accuracy: 0.1393\n",
      "Epoch 9/100\n",
      "1337/1337 [==============================] - ETA: 0s - loss: 4.6021 - accuracy: 0.1696\n",
      "Epoch 9: val_loss did not improve from 5.71780\n",
      "1337/1337 [==============================] - 248s 185ms/step - loss: 4.6021 - accuracy: 0.1696 - val_loss: 6.1574 - val_accuracy: 0.1409\n",
      "Epoch 10/100\n",
      "1337/1337 [==============================] - ETA: 0s - loss: 4.4944 - accuracy: 0.1771\n",
      "Epoch 10: val_loss did not improve from 5.71780\n",
      "1337/1337 [==============================] - 237s 177ms/step - loss: 4.4944 - accuracy: 0.1771 - val_loss: 6.2976 - val_accuracy: 0.1455\n",
      "Epoch 11/100\n",
      "1337/1337 [==============================] - ETA: 0s - loss: 4.3880 - accuracy: 0.1840\n",
      "Epoch 11: val_loss did not improve from 5.71780\n",
      "1337/1337 [==============================] - 242s 181ms/step - loss: 4.3880 - accuracy: 0.1840 - val_loss: 6.4383 - val_accuracy: 0.1451\n",
      "Epoch 12/100\n",
      "1337/1337 [==============================] - ETA: 0s - loss: 4.2900 - accuracy: 0.1918\n",
      "Epoch 12: val_loss did not improve from 5.71780\n",
      "1337/1337 [==============================] - 246s 184ms/step - loss: 4.2900 - accuracy: 0.1918 - val_loss: 6.5427 - val_accuracy: 0.1443\n",
      "Epoch 13/100\n",
      "1337/1337 [==============================] - ETA: 0s - loss: 4.1911 - accuracy: 0.1989\n",
      "Epoch 13: val_loss did not improve from 5.71780\n",
      "1337/1337 [==============================] - 255s 191ms/step - loss: 4.1911 - accuracy: 0.1989 - val_loss: 6.7699 - val_accuracy: 0.1452\n",
      "Epoch 14/100\n",
      "1337/1337 [==============================] - ETA: 0s - loss: 4.0957 - accuracy: 0.2060\n",
      "Epoch 14: val_loss did not improve from 5.71780\n",
      "1337/1337 [==============================] - 247s 185ms/step - loss: 4.0957 - accuracy: 0.2060 - val_loss: 6.8869 - val_accuracy: 0.1469\n",
      "Epoch 15/100\n",
      "1337/1337 [==============================] - ETA: 0s - loss: 3.9987 - accuracy: 0.2131\n",
      "Epoch 15: val_loss did not improve from 5.71780\n",
      "1337/1337 [==============================] - 244s 183ms/step - loss: 3.9987 - accuracy: 0.2131 - val_loss: 7.1773 - val_accuracy: 0.1446\n",
      "Epoch 16/100\n",
      "1337/1337 [==============================] - ETA: 0s - loss: 3.9002 - accuracy: 0.2215\n",
      "Epoch 16: val_loss did not improve from 5.71780\n",
      "1337/1337 [==============================] - 249s 186ms/step - loss: 3.9002 - accuracy: 0.2215 - val_loss: 7.4798 - val_accuracy: 0.1458\n",
      "Epoch 17/100\n",
      "1337/1337 [==============================] - ETA: 0s - loss: 3.8026 - accuracy: 0.2281\n",
      "Epoch 17: val_loss did not improve from 5.71780\n",
      "1337/1337 [==============================] - 253s 189ms/step - loss: 3.8026 - accuracy: 0.2281 - val_loss: 7.7870 - val_accuracy: 0.1449\n",
      "Epoch 18/100\n",
      "1337/1337 [==============================] - ETA: 0s - loss: 3.7095 - accuracy: 0.2372\n",
      "Epoch 18: val_loss did not improve from 5.71780\n",
      "1337/1337 [==============================] - 241s 180ms/step - loss: 3.7095 - accuracy: 0.2372 - val_loss: 7.9027 - val_accuracy: 0.1422\n",
      "Epoch 19/100\n",
      "1337/1337 [==============================] - ETA: 0s - loss: 3.6150 - accuracy: 0.2452\n",
      "Epoch 19: val_loss did not improve from 5.71780\n",
      "1337/1337 [==============================] - 241s 180ms/step - loss: 3.6150 - accuracy: 0.2452 - val_loss: 8.1782 - val_accuracy: 0.1395\n",
      "Epoch 20/100\n",
      "1337/1337 [==============================] - ETA: 0s - loss: 3.5319 - accuracy: 0.2560\n",
      "Epoch 20: val_loss did not improve from 5.71780\n",
      "1337/1337 [==============================] - 254s 190ms/step - loss: 3.5319 - accuracy: 0.2560 - val_loss: 8.4522 - val_accuracy: 0.1394\n",
      "Epoch 21/100\n",
      "1337/1337 [==============================] - ETA: 0s - loss: 3.4425 - accuracy: 0.2640\n",
      "Epoch 21: val_loss did not improve from 5.71780\n",
      "1337/1337 [==============================] - 250s 187ms/step - loss: 3.4425 - accuracy: 0.2640 - val_loss: 8.7073 - val_accuracy: 0.1342\n",
      "Epoch 22/100\n",
      "1337/1337 [==============================] - ETA: 0s - loss: 3.3605 - accuracy: 0.2751\n",
      "Epoch 22: val_loss did not improve from 5.71780\n",
      "1337/1337 [==============================] - 243s 182ms/step - loss: 3.3605 - accuracy: 0.2751 - val_loss: 9.1541 - val_accuracy: 0.1309\n",
      "Epoch 23/100\n",
      "1337/1337 [==============================] - ETA: 0s - loss: 3.2781 - accuracy: 0.2843\n",
      "Epoch 23: val_loss did not improve from 5.71780\n",
      "1337/1337 [==============================] - 248s 185ms/step - loss: 3.2781 - accuracy: 0.2843 - val_loss: 9.4542 - val_accuracy: 0.1294\n",
      "Epoch 24/100\n",
      "1337/1337 [==============================] - ETA: 0s - loss: 3.2007 - accuracy: 0.2959\n",
      "Epoch 24: val_loss did not improve from 5.71780\n",
      "1337/1337 [==============================] - 261s 195ms/step - loss: 3.2007 - accuracy: 0.2959 - val_loss: 9.6905 - val_accuracy: 0.1270\n",
      "Epoch 25/100\n",
      "1337/1337 [==============================] - ETA: 0s - loss: 3.1189 - accuracy: 0.3073\n",
      "Epoch 25: val_loss did not improve from 5.71780\n",
      "1337/1337 [==============================] - 251s 187ms/step - loss: 3.1189 - accuracy: 0.3073 - val_loss: 10.0455 - val_accuracy: 0.1253\n",
      "Epoch 26/100\n",
      "1337/1337 [==============================] - ETA: 0s - loss: 3.0464 - accuracy: 0.3190\n",
      "Epoch 26: val_loss did not improve from 5.71780\n",
      "1337/1337 [==============================] - 252s 189ms/step - loss: 3.0464 - accuracy: 0.3190 - val_loss: 10.2288 - val_accuracy: 0.1226\n",
      "Epoch 27/100\n",
      "1337/1337 [==============================] - ETA: 0s - loss: 2.9745 - accuracy: 0.3308\n",
      "Epoch 27: val_loss did not improve from 5.71780\n",
      "1337/1337 [==============================] - 261s 195ms/step - loss: 2.9745 - accuracy: 0.3308 - val_loss: 10.3884 - val_accuracy: 0.1174\n",
      "Epoch 28/100\n",
      "1337/1337 [==============================] - ETA: 0s - loss: 2.9104 - accuracy: 0.3407\n",
      "Epoch 28: val_loss did not improve from 5.71780\n",
      "1337/1337 [==============================] - 261s 196ms/step - loss: 2.9104 - accuracy: 0.3407 - val_loss: 10.5297 - val_accuracy: 0.1180\n",
      "Epoch 29/100\n",
      "1337/1337 [==============================] - ETA: 0s - loss: 2.8367 - accuracy: 0.3512\n",
      "Epoch 29: val_loss did not improve from 5.71780\n",
      "1337/1337 [==============================] - 262s 196ms/step - loss: 2.8367 - accuracy: 0.3512 - val_loss: 10.9853 - val_accuracy: 0.1163\n",
      "Epoch 30/100\n",
      "1337/1337 [==============================] - ETA: 0s - loss: 2.7656 - accuracy: 0.3643\n",
      "Epoch 30: val_loss did not improve from 5.71780\n",
      "1337/1337 [==============================] - 257s 192ms/step - loss: 2.7656 - accuracy: 0.3643 - val_loss: 11.0751 - val_accuracy: 0.1115\n",
      "Epoch 31/100\n",
      "1337/1337 [==============================] - ETA: 0s - loss: 2.7071 - accuracy: 0.3737\n",
      "Epoch 31: val_loss did not improve from 5.71780\n",
      "1337/1337 [==============================] - 265s 198ms/step - loss: 2.7071 - accuracy: 0.3737 - val_loss: 11.5408 - val_accuracy: 0.1107\n",
      "Epoch 32/100\n",
      "1337/1337 [==============================] - ETA: 0s - loss: 2.6444 - accuracy: 0.3858\n",
      "Epoch 32: val_loss did not improve from 5.71780\n",
      "1337/1337 [==============================] - 266s 199ms/step - loss: 2.6444 - accuracy: 0.3858 - val_loss: 11.6338 - val_accuracy: 0.1080\n",
      "Epoch 33/100\n",
      "1337/1337 [==============================] - ETA: 0s - loss: 2.5818 - accuracy: 0.3961\n",
      "Epoch 33: val_loss did not improve from 5.71780\n",
      "1337/1337 [==============================] - 258s 193ms/step - loss: 2.5818 - accuracy: 0.3961 - val_loss: 11.8769 - val_accuracy: 0.1071\n",
      "Epoch 34/100\n",
      "1337/1337 [==============================] - ETA: 0s - loss: 2.5217 - accuracy: 0.4066\n",
      "Epoch 34: val_loss did not improve from 5.71780\n",
      "1337/1337 [==============================] - 260s 194ms/step - loss: 2.5217 - accuracy: 0.4066 - val_loss: 11.8759 - val_accuracy: 0.1047\n",
      "Epoch 35/100\n",
      "1337/1337 [==============================] - ETA: 0s - loss: 2.4542 - accuracy: 0.4183\n",
      "Epoch 35: val_loss did not improve from 5.71780\n",
      "1337/1337 [==============================] - 270s 202ms/step - loss: 2.4542 - accuracy: 0.4183 - val_loss: 12.3896 - val_accuracy: 0.1026\n",
      "Epoch 36/100\n",
      "1337/1337 [==============================] - ETA: 0s - loss: 2.4089 - accuracy: 0.4276\n",
      "Epoch 36: val_loss did not improve from 5.71780\n",
      "1337/1337 [==============================] - 257s 192ms/step - loss: 2.4089 - accuracy: 0.4276 - val_loss: 12.1227 - val_accuracy: 0.1033\n",
      "Epoch 37/100\n",
      "1337/1337 [==============================] - ETA: 0s - loss: 2.3553 - accuracy: 0.4371\n",
      "Epoch 37: val_loss did not improve from 5.71780\n",
      "1337/1337 [==============================] - 263s 197ms/step - loss: 2.3553 - accuracy: 0.4371 - val_loss: 12.8785 - val_accuracy: 0.1053\n",
      "Epoch 38/100\n",
      "1337/1337 [==============================] - ETA: 0s - loss: 2.3053 - accuracy: 0.4447\n",
      "Epoch 38: val_loss did not improve from 5.71780\n",
      "1337/1337 [==============================] - 274s 205ms/step - loss: 2.3053 - accuracy: 0.4447 - val_loss: 12.9247 - val_accuracy: 0.1050\n",
      "Epoch 39/100\n",
      "1337/1337 [==============================] - ETA: 0s - loss: 2.2481 - accuracy: 0.4554\n",
      "Epoch 39: val_loss did not improve from 5.71780\n",
      "1337/1337 [==============================] - 274s 205ms/step - loss: 2.2481 - accuracy: 0.4554 - val_loss: 13.2051 - val_accuracy: 0.0992\n",
      "Epoch 40/100\n",
      "1337/1337 [==============================] - ETA: 0s - loss: 2.2040 - accuracy: 0.4660\n",
      "Epoch 40: val_loss did not improve from 5.71780\n",
      "1337/1337 [==============================] - 268s 201ms/step - loss: 2.2040 - accuracy: 0.4660 - val_loss: 13.1976 - val_accuracy: 0.1005\n",
      "Epoch 41/100\n",
      "1337/1337 [==============================] - ETA: 0s - loss: 2.1500 - accuracy: 0.4756\n",
      "Epoch 41: val_loss did not improve from 5.71780\n",
      "1337/1337 [==============================] - 273s 204ms/step - loss: 2.1500 - accuracy: 0.4756 - val_loss: 13.1499 - val_accuracy: 0.0977\n",
      "Epoch 42/100\n",
      "1337/1337 [==============================] - ETA: 0s - loss: 2.1038 - accuracy: 0.4858\n",
      "Epoch 42: val_loss did not improve from 5.71780\n",
      "1337/1337 [==============================] - 274s 205ms/step - loss: 2.1038 - accuracy: 0.4858 - val_loss: 13.3817 - val_accuracy: 0.0965\n",
      "Epoch 43/100\n",
      "1337/1337 [==============================] - ETA: 0s - loss: 2.0522 - accuracy: 0.4955\n",
      "Epoch 43: val_loss did not improve from 5.71780\n",
      "1337/1337 [==============================] - 270s 202ms/step - loss: 2.0522 - accuracy: 0.4955 - val_loss: 13.6830 - val_accuracy: 0.0952\n",
      "Epoch 44/100\n",
      "1337/1337 [==============================] - ETA: 0s - loss: 2.0149 - accuracy: 0.5053\n",
      "Epoch 44: val_loss did not improve from 5.71780\n",
      "1337/1337 [==============================] - 266s 199ms/step - loss: 2.0149 - accuracy: 0.5053 - val_loss: 13.7725 - val_accuracy: 0.0971\n",
      "Epoch 45/100\n",
      "1337/1337 [==============================] - ETA: 0s - loss: 1.9758 - accuracy: 0.5115\n",
      "Epoch 45: val_loss did not improve from 5.71780\n",
      "1337/1337 [==============================] - 275s 206ms/step - loss: 1.9758 - accuracy: 0.5115 - val_loss: 13.8479 - val_accuracy: 0.0947\n",
      "Epoch 46/100\n",
      "1337/1337 [==============================] - ETA: 0s - loss: 1.9294 - accuracy: 0.5190\n",
      "Epoch 46: val_loss did not improve from 5.71780\n",
      "1337/1337 [==============================] - 274s 205ms/step - loss: 1.9294 - accuracy: 0.5190 - val_loss: 13.8384 - val_accuracy: 0.0944\n",
      "Epoch 47/100\n",
      "1337/1337 [==============================] - ETA: 0s - loss: 1.8893 - accuracy: 0.5293\n",
      "Epoch 47: val_loss did not improve from 5.71780\n",
      "1337/1337 [==============================] - 272s 203ms/step - loss: 1.8893 - accuracy: 0.5293 - val_loss: 14.3826 - val_accuracy: 0.0950\n",
      "Epoch 48/100\n",
      "1337/1337 [==============================] - ETA: 0s - loss: 1.8461 - accuracy: 0.5367\n",
      "Epoch 48: val_loss did not improve from 5.71780\n",
      "1337/1337 [==============================] - 277s 207ms/step - loss: 1.8461 - accuracy: 0.5367 - val_loss: 14.2996 - val_accuracy: 0.0966\n",
      "Epoch 49/100\n",
      "1337/1337 [==============================] - ETA: 0s - loss: 1.8099 - accuracy: 0.5467\n",
      "Epoch 49: val_loss did not improve from 5.71780\n",
      "1337/1337 [==============================] - 283s 211ms/step - loss: 1.8099 - accuracy: 0.5467 - val_loss: 14.5364 - val_accuracy: 0.0945\n",
      "Epoch 50/100\n",
      "1337/1337 [==============================] - ETA: 0s - loss: 1.7745 - accuracy: 0.5522\n",
      "Epoch 50: val_loss did not improve from 5.71780\n",
      "1337/1337 [==============================] - 275s 206ms/step - loss: 1.7745 - accuracy: 0.5522 - val_loss: 14.7769 - val_accuracy: 0.0908\n",
      "Epoch 51/100\n",
      "1337/1337 [==============================] - ETA: 0s - loss: 1.7408 - accuracy: 0.5593\n",
      "Epoch 51: val_loss did not improve from 5.71780\n",
      "1337/1337 [==============================] - 280s 210ms/step - loss: 1.7408 - accuracy: 0.5593 - val_loss: 15.1782 - val_accuracy: 0.0914\n",
      "Epoch 52/100\n",
      "1337/1337 [==============================] - ETA: 0s - loss: 1.7103 - accuracy: 0.5669\n",
      "Epoch 52: val_loss did not improve from 5.71780\n",
      "1337/1337 [==============================] - 285s 213ms/step - loss: 1.7103 - accuracy: 0.5669 - val_loss: 14.7127 - val_accuracy: 0.0910\n",
      "Epoch 53/100\n",
      "1337/1337 [==============================] - ETA: 0s - loss: 1.6814 - accuracy: 0.5743\n",
      "Epoch 53: val_loss did not improve from 5.71780\n",
      "1337/1337 [==============================] - 282s 211ms/step - loss: 1.6814 - accuracy: 0.5743 - val_loss: 15.3062 - val_accuracy: 0.0928\n",
      "Epoch 54/100\n",
      "1337/1337 [==============================] - ETA: 0s - loss: 1.6432 - accuracy: 0.5816\n",
      "Epoch 54: val_loss did not improve from 5.71780\n",
      "1337/1337 [==============================] - 375s 281ms/step - loss: 1.6432 - accuracy: 0.5816 - val_loss: 15.7125 - val_accuracy: 0.0965\n",
      "Epoch 55/100\n",
      "1337/1337 [==============================] - ETA: 0s - loss: 1.6111 - accuracy: 0.5910\n",
      "Epoch 55: val_loss did not improve from 5.71780\n",
      "1337/1337 [==============================] - 435s 325ms/step - loss: 1.6111 - accuracy: 0.5910 - val_loss: 15.6101 - val_accuracy: 0.0948\n",
      "Epoch 56/100\n",
      "1337/1337 [==============================] - ETA: 0s - loss: 1.5823 - accuracy: 0.5962\n",
      "Epoch 56: val_loss did not improve from 5.71780\n",
      "1337/1337 [==============================] - 421s 315ms/step - loss: 1.5823 - accuracy: 0.5962 - val_loss: 15.6920 - val_accuracy: 0.0937\n",
      "Epoch 57/100\n",
      "1337/1337 [==============================] - ETA: 0s - loss: 1.5611 - accuracy: 0.6010\n",
      "Epoch 57: val_loss did not improve from 5.71780\n",
      "1337/1337 [==============================] - 424s 317ms/step - loss: 1.5611 - accuracy: 0.6010 - val_loss: 15.9466 - val_accuracy: 0.0942\n",
      "Epoch 58/100\n",
      "1337/1337 [==============================] - ETA: 0s - loss: 1.5252 - accuracy: 0.6079\n",
      "Epoch 58: val_loss did not improve from 5.71780\n",
      "1337/1337 [==============================] - 441s 330ms/step - loss: 1.5252 - accuracy: 0.6079 - val_loss: 15.9279 - val_accuracy: 0.0907\n",
      "Epoch 59/100\n",
      "1337/1337 [==============================] - ETA: 0s - loss: 1.4972 - accuracy: 0.6144\n",
      "Epoch 59: val_loss did not improve from 5.71780\n",
      "1337/1337 [==============================] - 444s 332ms/step - loss: 1.4972 - accuracy: 0.6144 - val_loss: 16.2161 - val_accuracy: 0.0945\n",
      "Epoch 60/100\n",
      "1337/1337 [==============================] - ETA: 0s - loss: 1.4645 - accuracy: 0.6210\n",
      "Epoch 60: val_loss did not improve from 5.71780\n",
      "1337/1337 [==============================] - 328s 245ms/step - loss: 1.4645 - accuracy: 0.6210 - val_loss: 16.1947 - val_accuracy: 0.0922\n",
      "Epoch 61/100\n",
      "1337/1337 [==============================] - ETA: 0s - loss: 1.4496 - accuracy: 0.6252\n",
      "Epoch 61: val_loss did not improve from 5.71780\n",
      "1337/1337 [==============================] - 253s 189ms/step - loss: 1.4496 - accuracy: 0.6252 - val_loss: 16.1600 - val_accuracy: 0.0944\n",
      "Epoch 62/100\n",
      "1337/1337 [==============================] - ETA: 0s - loss: 1.4220 - accuracy: 0.6317\n",
      "Epoch 62: val_loss did not improve from 5.71780\n",
      "1337/1337 [==============================] - 285s 214ms/step - loss: 1.4220 - accuracy: 0.6317 - val_loss: 16.6044 - val_accuracy: 0.0931\n",
      "Epoch 63/100\n",
      "1337/1337 [==============================] - ETA: 0s - loss: 1.4158 - accuracy: 0.6334\n",
      "Epoch 63: val_loss did not improve from 5.71780\n",
      "1337/1337 [==============================] - 282s 211ms/step - loss: 1.4158 - accuracy: 0.6334 - val_loss: 16.4120 - val_accuracy: 0.0943\n",
      "Epoch 64/100\n",
      "1337/1337 [==============================] - ETA: 0s - loss: 1.3776 - accuracy: 0.6436\n",
      "Epoch 64: val_loss did not improve from 5.71780\n",
      "1337/1337 [==============================] - 306s 229ms/step - loss: 1.3776 - accuracy: 0.6436 - val_loss: 16.2660 - val_accuracy: 0.0913\n",
      "Epoch 65/100\n",
      "1337/1337 [==============================] - ETA: 0s - loss: 1.3588 - accuracy: 0.6459\n",
      "Epoch 65: val_loss did not improve from 5.71780\n",
      "1337/1337 [==============================] - 299s 223ms/step - loss: 1.3588 - accuracy: 0.6459 - val_loss: 16.5182 - val_accuracy: 0.0909\n",
      "Epoch 66/100\n",
      "1337/1337 [==============================] - ETA: 0s - loss: 1.3420 - accuracy: 0.6518\n",
      "Epoch 66: val_loss did not improve from 5.71780\n",
      "1337/1337 [==============================] - 309s 231ms/step - loss: 1.3420 - accuracy: 0.6518 - val_loss: 16.7675 - val_accuracy: 0.0946\n",
      "Epoch 67/100\n",
      " 735/1337 [===============>..............] - ETA: 2:26 - loss: 1.2729 - accuracy: 0.6675"
     ]
    }
   ],
   "source": [
    "checkpoint = ModelCheckpoint(filepath= 'predictor.h5', monitor='val_loss', save_best_only=True, save_weights_only=False, mode='min', save_freq='epoch', verbose=1)\n",
    "history = model.fit(X_train, y_train, epochs=epochs, batch_size=64, validation_data=(X_test, y_test), validation_batch_size=64, callbacks=[checkpoint])"
   ]
  },
  {
   "cell_type": "code",
   "execution_count": 35,
   "metadata": {},
   "outputs": [
    {
     "data": {
      "text/plain": [
       "<matplotlib.legend.Legend at 0x23614883100>"
      ]
     },
     "execution_count": 35,
     "metadata": {},
     "output_type": "execute_result"
    },
    {
     "data": {
      "image/png": "[encoded data removed]",
      "text/plain": [
       "<Figure size 640x480 with 1 Axes>"
      ]
     },
     "metadata": {},
     "output_type": "display_data"
    }
   ],
   "source": [
    "plt.plot(history.history['loss'])\n",
    "plt.plot(history.history['val_loss'])\n",
    "plt.xlabel('Epochs')\n",
    "plt.ylabel('Loss')\n",
    "plt.legend(['loss', 'val_loss'])"
   ]
  },
  {
   "cell_type": "code",
   "execution_count": 36,
   "metadata": {},
   "outputs": [
    {
     "data": {
      "text/plain": [
       "<matplotlib.legend.Legend at 0x2361451aec0>"
      ]
     },
     "execution_count": 36,
     "metadata": {},
     "output_type": "execute_result"
    },
    {
     "data": {
      "image/png": "[encoded data removed]",
      "text/plain": [
       "<Figure size 640x480 with 1 Axes>"
      ]
     },
     "metadata": {},
     "output_type": "display_data"
    }
   ],
   "source": [
    "plt.plot(history.history['accuracy'])\n",
    "plt.plot(history.history['val_accuracy'])\n",
    "plt.xlabel('Epochs')\n",
    "plt.ylabel('Accuracy')\n",
    "plt.legend(['accuracy', 'val_accuracy'])"
   ]
  },
  {
   "cell_type": "code",
   "execution_count": null,
   "metadata": {},
   "outputs": [],
   "source": []
  }
 ],
 "metadata": {
  "kernelspec": {
   "display_name": "base",
   "language": "python",
   "name": "python3"
  },
  "language_info": {
   "codemirror_mode": {
    "name": "ipython",
    "version": 3
   },
   "file_extension": ".py",
   "mimetype": "text/x-python",
   "name": "python",
   "nbconvert_exporter": "python",
   "pygments_lexer": "ipython3",
   "version": "3.10.9"
  },
  "orig_nbformat": 4
 },
 "nbformat": 4,
 "nbformat_minor": 2
}
